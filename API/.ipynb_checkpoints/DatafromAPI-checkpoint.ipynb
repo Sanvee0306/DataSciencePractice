{
 "cells": [
  {
   "cell_type": "code",
   "execution_count": 1,
   "metadata": {},
   "outputs": [],
   "source": [
    "import requests"
   ]
  },
  {
   "cell_type": "code",
   "execution_count": 8,
   "metadata": {},
   "outputs": [],
   "source": [
    "url= 'http://restcountries.eu/rest/v2/capital/stockholm'"
   ]
  },
  {
   "cell_type": "code",
   "execution_count": 9,
   "metadata": {},
   "outputs": [],
   "source": [
    "result = requests.get(url)"
   ]
  },
  {
   "cell_type": "code",
   "execution_count": 10,
   "metadata": {},
   "outputs": [
    {
     "data": {
      "text/plain": [
       "200"
      ]
     },
     "execution_count": 10,
     "metadata": {},
     "output_type": "execute_result"
    }
   ],
   "source": [
    "result.status_code"
   ]
  },
  {
   "cell_type": "code",
   "execution_count": 11,
   "metadata": {},
   "outputs": [
    {
     "data": {
      "text/plain": [
       "{'Date': 'Fri, 14 Aug 2020 15:45:15 GMT', 'Content-Type': 'application/json;charset=utf-8', 'Transfer-Encoding': 'chunked', 'Connection': 'keep-alive', 'Set-Cookie': '__cfduid=dc4a94ea22928d810f8ee8655dba4386f1597419915; expires=Sun, 13-Sep-20 15:45:15 GMT; path=/; domain=.restcountries.eu; HttpOnly; SameSite=Lax', 'Access-Control-Allow-Origin': '*', 'Access-Control-Allow-Methods': 'GET', 'Access-Control-Allow-Headers': 'Accept, X-Requested-With', 'Cache-Control': 'public, max-age=86400', 'CF-Cache-Status': 'DYNAMIC', 'cf-request-id': '048f3ea0510000df635835a200000001', 'Server': 'cloudflare', 'CF-RAY': '5c2bcd46ec04df63-BOM', 'Content-Encoding': 'gzip'}"
      ]
     },
     "execution_count": 11,
     "metadata": {},
     "output_type": "execute_result"
    }
   ],
   "source": [
    "result.headers"
   ]
  },
  {
   "cell_type": "code",
   "execution_count": 12,
   "metadata": {},
   "outputs": [
    {
     "data": {
      "text/plain": [
       "'[{\"name\":\"Sweden\",\"topLevelDomain\":[\".se\"],\"alpha2Code\":\"SE\",\"alpha3Code\":\"SWE\",\"callingCodes\":[\"46\"],\"capital\":\"Stockholm\",\"altSpellings\":[\"SE\",\"Kingdom of Sweden\",\"Konungariket Sverige\"],\"region\":\"Europe\",\"subregion\":\"Northern Europe\",\"population\":9894888,\"latlng\":[62.0,15.0],\"demonym\":\"Swedish\",\"area\":450295.0,\"gini\":25.0,\"timezones\":[\"UTC+01:00\"],\"borders\":[\"FIN\",\"NOR\"],\"nativeName\":\"Sverige\",\"numericCode\":\"752\",\"currencies\":[{\"code\":\"SEK\",\"name\":\"Swedish krona\",\"symbol\":\"kr\"}],\"languages\":[{\"iso639_1\":\"sv\",\"iso639_2\":\"swe\",\"name\":\"Swedish\",\"nativeName\":\"svenska\"}],\"translations\":{\"de\":\"Schweden\",\"es\":\"Suecia\",\"fr\":\"Suède\",\"ja\":\"スウェーデン\",\"it\":\"Svezia\",\"br\":\"Suécia\",\"pt\":\"Suécia\",\"nl\":\"Zweden\",\"hr\":\"Švedska\",\"fa\":\"سوئد\"},\"flag\":\"https://restcountries.eu/data/swe.svg\",\"regionalBlocs\":[{\"acronym\":\"EU\",\"name\":\"European Union\",\"otherAcronyms\":[],\"otherNames\":[]}],\"cioc\":\"SWE\"}]'"
      ]
     },
     "execution_count": 12,
     "metadata": {},
     "output_type": "execute_result"
    }
   ],
   "source": [
    "result.text"
   ]
  },
  {
   "cell_type": "code",
   "execution_count": 13,
   "metadata": {},
   "outputs": [
    {
     "data": {
      "text/plain": [
       "[{'name': 'Sweden',\n",
       "  'topLevelDomain': ['.se'],\n",
       "  'alpha2Code': 'SE',\n",
       "  'alpha3Code': 'SWE',\n",
       "  'callingCodes': ['46'],\n",
       "  'capital': 'Stockholm',\n",
       "  'altSpellings': ['SE', 'Kingdom of Sweden', 'Konungariket Sverige'],\n",
       "  'region': 'Europe',\n",
       "  'subregion': 'Northern Europe',\n",
       "  'population': 9894888,\n",
       "  'latlng': [62.0, 15.0],\n",
       "  'demonym': 'Swedish',\n",
       "  'area': 450295.0,\n",
       "  'gini': 25.0,\n",
       "  'timezones': ['UTC+01:00'],\n",
       "  'borders': ['FIN', 'NOR'],\n",
       "  'nativeName': 'Sverige',\n",
       "  'numericCode': '752',\n",
       "  'currencies': [{'code': 'SEK', 'name': 'Swedish krona', 'symbol': 'kr'}],\n",
       "  'languages': [{'iso639_1': 'sv',\n",
       "    'iso639_2': 'swe',\n",
       "    'name': 'Swedish',\n",
       "    'nativeName': 'svenska'}],\n",
       "  'translations': {'de': 'Schweden',\n",
       "   'es': 'Suecia',\n",
       "   'fr': 'Suède',\n",
       "   'ja': 'スウェーデン',\n",
       "   'it': 'Svezia',\n",
       "   'br': 'Suécia',\n",
       "   'pt': 'Suécia',\n",
       "   'nl': 'Zweden',\n",
       "   'hr': 'Švedska',\n",
       "   'fa': 'سوئد'},\n",
       "  'flag': 'https://restcountries.eu/data/swe.svg',\n",
       "  'regionalBlocs': [{'acronym': 'EU',\n",
       "    'name': 'European Union',\n",
       "    'otherAcronyms': [],\n",
       "    'otherNames': []}],\n",
       "  'cioc': 'SWE'}]"
      ]
     },
     "execution_count": 13,
     "metadata": {},
     "output_type": "execute_result"
    }
   ],
   "source": [
    "result.json()"
   ]
  },
  {
   "cell_type": "code",
   "execution_count": null,
   "metadata": {},
   "outputs": [],
   "source": []
  }
 ],
 "metadata": {
  "kernelspec": {
   "display_name": "Python 3",
   "language": "python",
   "name": "python3"
  },
  "language_info": {
   "codemirror_mode": {
    "name": "ipython",
    "version": 3
   },
   "file_extension": ".py",
   "mimetype": "text/x-python",
   "name": "python",
   "nbconvert_exporter": "python",
   "pygments_lexer": "ipython3",
   "version": "3.7.3"
  }
 },
 "nbformat": 4,
 "nbformat_minor": 2
}
