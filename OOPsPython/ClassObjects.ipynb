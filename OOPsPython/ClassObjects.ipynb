{
 "cells": [
  {
   "cell_type": "code",
   "execution_count": 1,
   "metadata": {},
   "outputs": [],
   "source": [
    "class bird:\n",
    "    \n",
    "    species = 'parrot'\n",
    "    name = 'Dobby'\n",
    "    age = 2\n",
    "    \n",
    "    def sing(self, song):\n",
    "        return \"{} sings '{}'\".format(self.name, song)"
   ]
  },
  {
   "cell_type": "code",
   "execution_count": 2,
   "metadata": {},
   "outputs": [
    {
     "name": "stdout",
     "output_type": "stream",
     "text": [
      "Dobby sings 'Hotel California'\n"
     ]
    }
   ],
   "source": [
    "t = bird()\n",
    "print(t.sing('Hotel California'))"
   ]
  },
  {
   "cell_type": "code",
   "execution_count": 8,
   "metadata": {},
   "outputs": [],
   "source": [
    "# Constructors and Destructors\n",
    "class bird:\n",
    "    \n",
    "    species = None\n",
    "    name = None\n",
    "    age = None\n",
    "    \n",
    "    def __init__(self, species, name, age):\n",
    "        self.species = species\n",
    "        self.name = name\n",
    "        self.age = age\n",
    "        \n",
    "    def describe(self):\n",
    "        return \"{} is a {} of age {}\".format(self.name, self.species, self.age)\n",
    "    \n",
    "    def sing(self, song):\n",
    "        return \"{} sings '{}'\".format(self.name, song)"
   ]
  },
  {
   "cell_type": "code",
   "execution_count": 9,
   "metadata": {},
   "outputs": [],
   "source": [
    "# Create Instances of the bird class \n",
    "b1 = bird('Parrot', 'Dobby', 4)\n",
    "b2 = bird('Owl', 'Hedwig', 5)\n",
    "b3 = bird('Augurey', 'Delphini', 3)"
   ]
  },
  {
   "cell_type": "code",
   "execution_count": 10,
   "metadata": {},
   "outputs": [
    {
     "name": "stdout",
     "output_type": "stream",
     "text": [
      "Dobby is a Parrot of age 4\n",
      "Dobby sings 'Hotel California'\n"
     ]
    }
   ],
   "source": [
    "print(b1.describe())\n",
    "print(b1.sing('Hotel California'))"
   ]
  },
  {
   "cell_type": "code",
   "execution_count": 11,
   "metadata": {},
   "outputs": [
    {
     "name": "stdout",
     "output_type": "stream",
     "text": [
      "Hedwig is a Owl of age 5\n",
      "Delphini is a Augurey of age 3\n"
     ]
    }
   ],
   "source": [
    "print(b2.describe())\n",
    "print(b3.describe())"
   ]
  },
  {
   "cell_type": "code",
   "execution_count": 13,
   "metadata": {},
   "outputs": [
    {
     "name": "stdout",
     "output_type": "stream",
     "text": [
      "Hedwig sings 'I shot the sheriff'\n",
      "Delphini sings 'Empty'\n"
     ]
    }
   ],
   "source": [
    "print(b2.sing('I shot the sheriff'))\n",
    "print(b3.sing('Empty'))"
   ]
  },
  {
   "cell_type": "code",
   "execution_count": 14,
   "metadata": {},
   "outputs": [],
   "source": [
    "# Customer Application\n",
    "class Customer(object):\n",
    "    name = None\n",
    "    balance = 0.0\n",
    "    email = None\n",
    "\n",
    "    def __init__(self, name, email, balance=0.0):\n",
    "        \"\"\"Return a Customer object whose name is *name* and starting\n",
    "        balance is *balance*.\"\"\"\n",
    "        self.name = name\n",
    "        self.balance = balance\n",
    "        self.email = email\n",
    "    \n",
    "    def check_balance(self):\n",
    "        return self.balance\n",
    "    \n",
    "        \n",
    "    def describe(self):\n",
    "        return \"'{}' has a balance of {} in their account\".format(self.name, self.balance)\n",
    "\n",
    "\n",
    "    def withdraw(self, amount):\n",
    "        \"\"\"Return the balance remaining after withdrawing *amount*\n",
    "        dollars.\"\"\"\n",
    "        if amount > self.balance:\n",
    "            raise RuntimeError('Amount greater than available balance.')\n",
    "        self.balance -= amount\n",
    "        return self.check_balance()\n",
    "\n",
    "    def deposit(self, amount):\n",
    "        \"\"\"Return the balance remaining after depositing *amount*\n",
    "        dollars.\"\"\"\n",
    "        self.balance += amount\n",
    "        return self.check_balance()"
   ]
  },
  {
   "cell_type": "code",
   "execution_count": 17,
   "metadata": {},
   "outputs": [
    {
     "name": "stdout",
     "output_type": "stream",
     "text": [
      "'Ramesh Kumar' has a balance of 0.0 in their account\n",
      "'Ramesh Kumar' has a balance of 1000.0 in their account\n",
      "'Ramesh Kumar' has a balance of 900.0 in their account\n"
     ]
    }
   ],
   "source": [
    "c = Customer(\"Ramesh Kumar\", \"rkumar@abcd.com\")\n",
    "print(c.describe())\n",
    "\n",
    "c.deposit(1000)\n",
    "print(c.describe())\n",
    "\n",
    "c.withdraw(100)\n",
    "print(c.describe())"
   ]
  },
  {
   "cell_type": "code",
   "execution_count": 18,
   "metadata": {},
   "outputs": [
    {
     "ename": "RuntimeError",
     "evalue": "Amount greater than available balance.",
     "output_type": "error",
     "traceback": [
      "\u001b[1;31m---------------------------------------------------------------------------\u001b[0m",
      "\u001b[1;31mRuntimeError\u001b[0m                              Traceback (most recent call last)",
      "\u001b[1;32m<ipython-input-18-1ff65567c2ed>\u001b[0m in \u001b[0;36m<module>\u001b[1;34m\u001b[0m\n\u001b[1;32m----> 1\u001b[1;33m \u001b[0mc\u001b[0m\u001b[1;33m.\u001b[0m\u001b[0mwithdraw\u001b[0m\u001b[1;33m(\u001b[0m\u001b[1;36m910\u001b[0m\u001b[1;33m)\u001b[0m\u001b[1;33m\u001b[0m\u001b[1;33m\u001b[0m\u001b[0m\n\u001b[0m",
      "\u001b[1;32m<ipython-input-14-5954e81c723d>\u001b[0m in \u001b[0;36mwithdraw\u001b[1;34m(self, amount)\u001b[0m\n\u001b[0;32m     24\u001b[0m         dollars.\"\"\"\n\u001b[0;32m     25\u001b[0m         \u001b[1;32mif\u001b[0m \u001b[0mamount\u001b[0m \u001b[1;33m>\u001b[0m \u001b[0mself\u001b[0m\u001b[1;33m.\u001b[0m\u001b[0mbalance\u001b[0m\u001b[1;33m:\u001b[0m\u001b[1;33m\u001b[0m\u001b[1;33m\u001b[0m\u001b[0m\n\u001b[1;32m---> 26\u001b[1;33m             \u001b[1;32mraise\u001b[0m \u001b[0mRuntimeError\u001b[0m\u001b[1;33m(\u001b[0m\u001b[1;34m'Amount greater than available balance.'\u001b[0m\u001b[1;33m)\u001b[0m\u001b[1;33m\u001b[0m\u001b[1;33m\u001b[0m\u001b[0m\n\u001b[0m\u001b[0;32m     27\u001b[0m         \u001b[0mself\u001b[0m\u001b[1;33m.\u001b[0m\u001b[0mbalance\u001b[0m \u001b[1;33m-=\u001b[0m \u001b[0mamount\u001b[0m\u001b[1;33m\u001b[0m\u001b[1;33m\u001b[0m\u001b[0m\n\u001b[0;32m     28\u001b[0m         \u001b[1;32mreturn\u001b[0m \u001b[0mself\u001b[0m\u001b[1;33m.\u001b[0m\u001b[0mcheck_balance\u001b[0m\u001b[1;33m(\u001b[0m\u001b[1;33m)\u001b[0m\u001b[1;33m\u001b[0m\u001b[1;33m\u001b[0m\u001b[0m\n",
      "\u001b[1;31mRuntimeError\u001b[0m: Amount greater than available balance."
     ]
    }
   ],
   "source": [
    "c.withdraw(910)"
   ]
  },
  {
   "cell_type": "code",
   "execution_count": 19,
   "metadata": {},
   "outputs": [],
   "source": [
    "# Inheritance\n",
    "# Simple Inheritance\n",
    "class bird:\n",
    "    \n",
    "    species = None\n",
    "    name = None\n",
    "    age = None\n",
    "    \n",
    "    def __init__(self, species, name, age):\n",
    "        self.species = species\n",
    "        self.name = name\n",
    "        self.age = age\n",
    "        \n",
    "    def describe(self):\n",
    "        return \"{} is a {} of age {}\".format(self.name, self.species, self.age)\n",
    "    \n",
    "    def sing(self, song):\n",
    "        return \"{} sings '{}'\".format(self.name, song)"
   ]
  },
  {
   "cell_type": "code",
   "execution_count": 20,
   "metadata": {},
   "outputs": [],
   "source": [
    "class parrot(bird):\n",
    "    canspeak = None\n",
    "    \n",
    "    def __init__(self, name, age, canspeak):\n",
    "        super().__init__('parrot', name, age)\n",
    "        self.canspeak = canspeak\n",
    "        \n",
    "    def get_canspeak(self):\n",
    "        if self.canspeak:\n",
    "            return \"{} can speak!\".format(self.name)\n",
    "        else:\n",
    "            return \"Sorry, but {} can not speak.\".format(self.name)"
   ]
  },
  {
   "cell_type": "code",
   "execution_count": 21,
   "metadata": {},
   "outputs": [
    {
     "name": "stdout",
     "output_type": "stream",
     "text": [
      "p1 is a parrot of age 2\n",
      "p2 is a parrot of age 2\n",
      "p1 sings 'Hotel California!'\n",
      "p2 sings 'Hotel California!'\n",
      "p1 can speak!\n",
      "Sorry, but p2 can not speak.\n"
     ]
    }
   ],
   "source": [
    "p1 = parrot('p1', 2, True) \n",
    "p2 = parrot('p2', 2, False) \n",
    "\n",
    "print(p1.describe())\n",
    "print(p2.describe())\n",
    "\n",
    "print(p1.sing(\"Hotel California!\"))\n",
    "print(p2.sing(\"Hotel California!\"))\n",
    "\n",
    "print(p1.get_canspeak())\n",
    "print(p2.get_canspeak())"
   ]
  },
  {
   "cell_type": "code",
   "execution_count": 23,
   "metadata": {},
   "outputs": [],
   "source": [
    "# Multiple Inheritance\n",
    "class Hcharacter:\n",
    "    name = None\n",
    "    book_first_appeared = None\n",
    "    \n",
    "    def __init__(self, name, book_first_appeared):\n",
    "        self.name = name\n",
    "        self.book_first_appeared = book_first_appeared\n",
    "        \n",
    "    def get_book_first_appeared(self):\n",
    "        return \"'{}' first appeared in book {}!\".format(self.name, self.book_first_appeared)"
   ]
  },
  {
   "cell_type": "code",
   "execution_count": 24,
   "metadata": {},
   "outputs": [
    {
     "data": {
      "text/plain": [
       "\"'Prof. Snape' first appeared in book 1!\""
      ]
     },
     "execution_count": 24,
     "metadata": {},
     "output_type": "execute_result"
    }
   ],
   "source": [
    "c1 = Hcharacter(\"Prof. Snape\", 1)\n",
    "\n",
    "c1.get_book_first_appeared()"
   ]
  },
  {
   "cell_type": "code",
   "execution_count": 25,
   "metadata": {},
   "outputs": [],
   "source": [
    "class headwig(bird, Hcharacter):\n",
    "    \n",
    "    def __init__(self, name, book_first_appeared, species, age):\n",
    "        bird.__init__(self, species, name, age)\n",
    "        Hcharacter.__init__(self, name, book_first_appeared)"
   ]
  },
  {
   "cell_type": "code",
   "execution_count": 26,
   "metadata": {},
   "outputs": [
    {
     "name": "stdout",
     "output_type": "stream",
     "text": [
      "headie is a crossbreed of age 3\n",
      "'headie' first appeared in book 2!\n"
     ]
    }
   ],
   "source": [
    "h1 = headwig('headie', 2, 'crossbreed', '3')\n",
    "\n",
    "print(h1.describe())\n",
    "print(h1.get_book_first_appeared())"
   ]
  },
  {
   "cell_type": "code",
   "execution_count": 29,
   "metadata": {},
   "outputs": [
    {
     "name": "stdout",
     "output_type": "stream",
     "text": [
      "Hello World\n"
     ]
    }
   ],
   "source": [
    "# Quiz\n",
    "class test:\n",
    "       def __init__(self,a=\"Hello World\"):\n",
    "                self.a=a\n",
    "       def display(self):\n",
    "              print(self.a)\n",
    "obj=test()\n",
    "obj.display()"
   ]
  },
  {
   "cell_type": "code",
   "execution_count": 30,
   "metadata": {},
   "outputs": [
    {
     "ename": "TypeError",
     "evalue": "__init__() missing 1 required positional argument: 'a'",
     "output_type": "error",
     "traceback": [
      "\u001b[1;31m---------------------------------------------------------------------------\u001b[0m",
      "\u001b[1;31mTypeError\u001b[0m                                 Traceback (most recent call last)",
      "\u001b[1;32m<ipython-input-30-5fd929197265>\u001b[0m in \u001b[0;36m<module>\u001b[1;34m\u001b[0m\n\u001b[0;32m      4\u001b[0m     \u001b[1;32mdef\u001b[0m \u001b[0mdisplay\u001b[0m\u001b[1;33m(\u001b[0m\u001b[0mself\u001b[0m\u001b[1;33m)\u001b[0m\u001b[1;33m:\u001b[0m\u001b[1;33m\u001b[0m\u001b[1;33m\u001b[0m\u001b[0m\n\u001b[0;32m      5\u001b[0m         \u001b[0mprint\u001b[0m\u001b[1;33m(\u001b[0m\u001b[0mself\u001b[0m\u001b[1;33m.\u001b[0m\u001b[0ma\u001b[0m\u001b[1;33m)\u001b[0m\u001b[1;33m\u001b[0m\u001b[1;33m\u001b[0m\u001b[0m\n\u001b[1;32m----> 6\u001b[1;33m \u001b[0mobj\u001b[0m\u001b[1;33m=\u001b[0m\u001b[0mtest\u001b[0m\u001b[1;33m(\u001b[0m\u001b[1;33m)\u001b[0m\u001b[1;33m\u001b[0m\u001b[1;33m\u001b[0m\u001b[0m\n\u001b[0m\u001b[0;32m      7\u001b[0m \u001b[0mobj\u001b[0m\u001b[1;33m.\u001b[0m\u001b[0mdisplay\u001b[0m\u001b[1;33m(\u001b[0m\u001b[1;33m)\u001b[0m\u001b[1;33m\u001b[0m\u001b[1;33m\u001b[0m\u001b[0m\n",
      "\u001b[1;31mTypeError\u001b[0m: __init__() missing 1 required positional argument: 'a'"
     ]
    }
   ],
   "source": [
    "class test:\n",
    "    def __init__(self,a):\n",
    "        self.a=a\n",
    "    def display(self):\n",
    "        print(self.a)\n",
    "obj=test()\n",
    "obj.display()"
   ]
  },
  {
   "cell_type": "code",
   "execution_count": 9,
   "metadata": {},
   "outputs": [],
   "source": [
    "class bird:\n",
    "    \n",
    "    species = 'parrot'\n",
    "    name = 'Dobby'\n",
    "    age = 2\n",
    "    \n",
    "    def sing(self, song):\n",
    "        return \"{} sings '{}'\".format(self.name, song)"
   ]
  },
  {
   "cell_type": "code",
   "execution_count": 12,
   "metadata": {},
   "outputs": [
    {
     "ename": "TypeError",
     "evalue": "sing() takes 1 positional argument but 2 were given",
     "output_type": "error",
     "traceback": [
      "\u001b[1;31m---------------------------------------------------------------------------\u001b[0m",
      "\u001b[1;31mTypeError\u001b[0m                                 Traceback (most recent call last)",
      "\u001b[1;32m<ipython-input-12-4aea48426b25>\u001b[0m in \u001b[0;36m<module>\u001b[1;34m\u001b[0m\n\u001b[0;32m      1\u001b[0m \u001b[0mt\u001b[0m \u001b[1;33m=\u001b[0m \u001b[0mbird\u001b[0m\u001b[1;33m(\u001b[0m\u001b[1;33m)\u001b[0m\u001b[1;33m\u001b[0m\u001b[1;33m\u001b[0m\u001b[0m\n\u001b[1;32m----> 2\u001b[1;33m \u001b[0mprint\u001b[0m\u001b[1;33m(\u001b[0m\u001b[0mt\u001b[0m\u001b[1;33m.\u001b[0m\u001b[0msing\u001b[0m\u001b[1;33m(\u001b[0m\u001b[1;34m'Hotel California'\u001b[0m\u001b[1;33m)\u001b[0m\u001b[1;33m)\u001b[0m\u001b[1;33m\u001b[0m\u001b[1;33m\u001b[0m\u001b[0m\n\u001b[0m",
      "\u001b[1;31mTypeError\u001b[0m: sing() takes 1 positional argument but 2 were given"
     ]
    }
   ],
   "source": [
    "t = bird()\n",
    "print(t.sing('Hotel California'))"
   ]
  },
  {
   "cell_type": "code",
   "execution_count": null,
   "metadata": {},
   "outputs": [],
   "source": []
  }
 ],
 "metadata": {
  "kernelspec": {
   "display_name": "Python 3",
   "language": "python",
   "name": "python3"
  },
  "language_info": {
   "codemirror_mode": {
    "name": "ipython",
    "version": 3
   },
   "file_extension": ".py",
   "mimetype": "text/x-python",
   "name": "python",
   "nbconvert_exporter": "python",
   "pygments_lexer": "ipython3",
   "version": "3.7.3"
  }
 },
 "nbformat": 4,
 "nbformat_minor": 2
}
